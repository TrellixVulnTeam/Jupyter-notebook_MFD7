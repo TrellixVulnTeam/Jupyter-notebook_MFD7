{
 "cells": [
  {
   "cell_type": "markdown",
   "id": "acf4d633",
   "metadata": {},
   "source": [
    "for letter in \"hello, world\":\n",
    "    print(letter)"
   ]
  },
  {
   "cell_type": "markdown",
   "id": "3f769872",
   "metadata": {},
   "source": [
    "#Hey\n",
    "How are you?"
   ]
  },
  {
   "cell_type": "code",
   "execution_count": 4,
   "id": "f2ab6e86",
   "metadata": {},
   "outputs": [],
   "source": [
    "def is_anagram(string_a, string_b):             # delcares the string\n",
    "    if len(string_a) != len(string_b):          #for loop\n",
    "        return False                            #if not found return false\n",
    "    char_times_a = dict()                       #\n",
    "    char_times_b = dict()\n",
    "    for i in range (len(string_a)):\n",
    "        if string_a[i] not in char_times_a.keys():\n",
    "            char_times_a[string_a[i]] = 1\n",
    "        else:\n",
    "            char_times_a[string_a[i]] += 1\n",
    "        if string_b[i] not in char_times_b.keys():\n",
    "            char_times_b[string_b[i]] = 1\n",
    "        else:\n",
    "            char_times_b[string_b[i]] +=1\n",
    "        return char_times_a == char_times_b"
   ]
  },
  {
   "cell_type": "code",
   "execution_count": 3,
   "id": "9160f578",
   "metadata": {},
   "outputs": [
    {
     "ename": "NameError",
     "evalue": "name 'char_times' is not defined",
     "output_type": "error",
     "traceback": [
      "\u001b[0;31m---------------------------------------------------------------------------\u001b[0m",
      "\u001b[0;31mNameError\u001b[0m                                 Traceback (most recent call last)",
      "\u001b[0;32m/tmp/ipykernel_30546/3416635274.py\u001b[0m in \u001b[0;36m<module>\u001b[0;34m\u001b[0m\n\u001b[0;32m----> 1\u001b[0;31m \u001b[0mis_anagram\u001b[0m\u001b[0;34m(\u001b[0m\u001b[0;34m\"cars\"\u001b[0m\u001b[0;34m,\u001b[0m \u001b[0;34m\"scar\"\u001b[0m\u001b[0;34m)\u001b[0m\u001b[0;34m\u001b[0m\u001b[0;34m\u001b[0m\u001b[0m\n\u001b[0m",
      "\u001b[0;32m/tmp/ipykernel_30546/1885138886.py\u001b[0m in \u001b[0;36mis_anagram\u001b[0;34m(string_a, string_b)\u001b[0m\n\u001b[1;32m      5\u001b[0m     \u001b[0mchar_times_b\u001b[0m \u001b[0;34m=\u001b[0m \u001b[0mdict\u001b[0m\u001b[0;34m(\u001b[0m\u001b[0;34m)\u001b[0m\u001b[0;34m\u001b[0m\u001b[0;34m\u001b[0m\u001b[0m\n\u001b[1;32m      6\u001b[0m     \u001b[0;32mfor\u001b[0m \u001b[0mi\u001b[0m \u001b[0;32min\u001b[0m \u001b[0mrange\u001b[0m \u001b[0;34m(\u001b[0m\u001b[0mlen\u001b[0m\u001b[0;34m(\u001b[0m\u001b[0mstring_a\u001b[0m\u001b[0;34m)\u001b[0m\u001b[0;34m)\u001b[0m\u001b[0;34m:\u001b[0m\u001b[0;34m\u001b[0m\u001b[0;34m\u001b[0m\u001b[0m\n\u001b[0;32m----> 7\u001b[0;31m         \u001b[0;32mif\u001b[0m \u001b[0mstring_a\u001b[0m\u001b[0;34m[\u001b[0m\u001b[0mi\u001b[0m\u001b[0;34m]\u001b[0m \u001b[0;32mnot\u001b[0m \u001b[0;32min\u001b[0m \u001b[0mchar_times\u001b[0m\u001b[0;34m.\u001b[0m\u001b[0mkeys\u001b[0m\u001b[0;34m(\u001b[0m\u001b[0;34m)\u001b[0m\u001b[0;34m:\u001b[0m\u001b[0;34m\u001b[0m\u001b[0;34m\u001b[0m\u001b[0m\n\u001b[0m\u001b[1;32m      8\u001b[0m             \u001b[0mchar_times_a\u001b[0m\u001b[0;34m[\u001b[0m\u001b[0mstring_a\u001b[0m\u001b[0;34m[\u001b[0m\u001b[0mi\u001b[0m\u001b[0;34m]\u001b[0m\u001b[0;34m]\u001b[0m \u001b[0;34m=\u001b[0m \u001b[0;36m1\u001b[0m\u001b[0;34m\u001b[0m\u001b[0;34m\u001b[0m\u001b[0m\n\u001b[1;32m      9\u001b[0m         \u001b[0;32melse\u001b[0m\u001b[0;34m:\u001b[0m\u001b[0;34m\u001b[0m\u001b[0;34m\u001b[0m\u001b[0m\n",
      "\u001b[0;31mNameError\u001b[0m: name 'char_times' is not defined"
     ]
    }
   ],
   "source": [
    "is_anagram(\"cars\", \"scar\")"
   ]
  },
  {
   "cell_type": "code",
   "execution_count": 13,
   "id": "d7885199",
   "metadata": {},
   "outputs": [],
   "source": [
    "def is_anagram(string_a, string_b):             \n",
    "    if len(string_a) != len(string_b):          #checking if lenght of stringa  \n",
    "        return False                            # is equal to lenght of string b\n",
    "    char_times_a = dict()                       # create 2 empty dictionaries\n",
    "    char_times_b = dict()                       \n",
    "    for i in range (len(string_a)):             # We iterate over all the values from\n",
    "                                                #0 to the lenght of string a.\n",
    "        if string_a[i] not in char_times_a.keys(): #check if weve seen the character at\n",
    "            char_times_a[string_a[i]] = 1       #index \"i\" in string_a.\n",
    "        else:\n",
    "            char_times_a[string_a[i]] += 1\n",
    "        if string_b[i] not in char_times_b.keys():\n",
    "            char_times_b[string_b[i]] = 1\n",
    "        else:\n",
    "            char_times_b[string_b[i]] +=1\n",
    "        return char_times_a == char_times_b"
   ]
  },
  {
   "cell_type": "code",
   "execution_count": 14,
   "id": "e77a3b0f",
   "metadata": {},
   "outputs": [
    {
     "data": {
      "text/plain": [
       "False"
      ]
     },
     "execution_count": 14,
     "metadata": {},
     "output_type": "execute_result"
    }
   ],
   "source": [
    "is_anagram(\"cars\", \"scar\")"
   ]
  },
  {
   "cell_type": "code",
   "execution_count": 15,
   "id": "798178d3",
   "metadata": {},
   "outputs": [
    {
     "data": {
      "text/plain": [
       "False"
      ]
     },
     "execution_count": 15,
     "metadata": {},
     "output_type": "execute_result"
    }
   ],
   "source": [
    "is_anagram(\"cars\", \"sccr\")"
   ]
  },
  {
   "cell_type": "code",
   "execution_count": 16,
   "id": "2000c94e",
   "metadata": {},
   "outputs": [
    {
     "data": {
      "text/plain": [
       "False"
      ]
     },
     "execution_count": 16,
     "metadata": {},
     "output_type": "execute_result"
    }
   ],
   "source": [
    "is_anagram(\"cars\", \"scar\")"
   ]
  },
  {
   "cell_type": "code",
   "execution_count": 17,
   "id": "709fb07d",
   "metadata": {},
   "outputs": [],
   "source": [
    "class Stack:\n",
    "    def __init__(self):\n",
    "        self.items = []\n",
    "        \n",
    "    def is_empty(self):\n",
    "        return self.items == []\n",
    "    \n",
    "    def push(self, item):\n",
    "        self.items.append(item)\n",
    "        \n",
    "    def pop(self):\n",
    "        return self.items.pop()\n",
    "    \n",
    "    def peek(self):\n",
    "        return self.items[len(self.items)-1]\n",
    "    \n",
    "    def size(self):\n",
    "        return len(self.items)\n",
    "    "
   ]
  },
  {
   "cell_type": "code",
   "execution_count": 1,
   "id": "5f2da855",
   "metadata": {},
   "outputs": [],
   "source": [
    "def reverse_str(mystring):\n",
    "    def __init__(self):\n",
    "        self.items = []\n",
    "        \n",
    "    def is_empty(self):\n",
    "        return self.items == []\n",
    "    \n",
    "    def push(self, item):\n",
    "        self.items.append(item)\n",
    "        \n",
    "    def pop(self):\n",
    "        return self.items.pop()\n",
    "    \n",
    "    def peek(self):\n",
    "        return self.items[len(self.items)-1]\n",
    "    \n",
    "    def size(self):\n",
    "        return len(self.items)\n",
    "    return output"
   ]
  },
  {
   "cell_type": "code",
   "execution_count": null,
   "id": "291e19ef",
   "metadata": {},
   "outputs": [],
   "source": [
    "def reverse_stack(mystring):\n",
    "    stack = Stack()\n",
    "    output = \" \"\n",
    "    for letter in mystring:\n",
    "        "
   ]
  }
 ],
 "metadata": {
  "kernelspec": {
   "display_name": "Python 3 (ipykernel)",
   "language": "python",
   "name": "python3"
  },
  "language_info": {
   "codemirror_mode": {
    "name": "ipython",
    "version": 3
   },
   "file_extension": ".py",
   "mimetype": "text/x-python",
   "name": "python",
   "nbconvert_exporter": "python",
   "pygments_lexer": "ipython3",
   "version": "3.8.10"
  }
 },
 "nbformat": 4,
 "nbformat_minor": 5
}
