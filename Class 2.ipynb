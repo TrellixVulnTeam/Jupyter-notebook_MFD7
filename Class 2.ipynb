{
 "cells": [
  {
   "cell_type": "code",
   "execution_count": 42,
   "id": "004bf3d2",
   "metadata": {},
   "outputs": [],
   "source": [
    "class Stack:\n",
    "    def __init__(self):\n",
    "        self.items = []\n",
    "    def push(self,item):\n",
    "        self.items.append(item)\n",
    "    def pop(self):\n",
    "        return self.items.pop()\n",
    "    def is_empty(self):\n",
    "        return self.items == []\n",
    "    def peek(self):\n",
    "        self.items[len(self.items)-1]\n",
    "    def size(self):\n",
    "        return len(self.items)\n",
    "    def __len__(self):\n",
    "        return self.size()"
   ]
  },
  {
   "cell_type": "code",
   "execution_count": 43,
   "id": "b1a9ca6d",
   "metadata": {},
   "outputs": [],
   "source": [
    "def is_balanced(s):\n",
    "    if len(s)%2 != 0:\n",
    "        return False\n",
    "    opening = set(\"{([\")\n",
    "    matches = set([(\"(\",\")\"), (\"[\", \"]\"), (\"{\" , \"}\")])\n",
    "    stack = Stack()\n",
    "    for paren in s:\n",
    "        if paren in opening:\n",
    "            stack.push(paren)\n",
    "        else:\n",
    "            if stack.is_empty():\n",
    "                return False\n",
    "            last_open = stack.pop()\n",
    "            if (last_open, paren) not in matches:\n",
    "                return False\n",
    "    return stack.is_empty()\n",
    "        \n",
    "            \n",
    "    \n",
    "    "
   ]
  },
  {
   "cell_type": "code",
   "execution_count": 44,
   "id": "a30584aa",
   "metadata": {},
   "outputs": [],
   "source": [
    "mystring = \"((({{{{{[[[[()]]]]}}}}})))\"\n",
    "mystring1 = \"()()[[[]]]{{{}}}((()))\"\n",
    "\n",
    "not_balanced = \"()[}()[[[[]]]]\"\n",
    "\n",
    "assert is_balanced(mystring) == True\n",
    "assert is_balanced(mystring1) == True\n",
    "assert is_balanced(not_balanced) == False\n"
   ]
  },
  {
   "cell_type": "code",
   "execution_count": null,
   "id": "16a81dd7",
   "metadata": {},
   "outputs": [],
   "source": []
  }
 ],
 "metadata": {
  "kernelspec": {
   "display_name": "Python 3 (ipykernel)",
   "language": "python",
   "name": "python3"
  },
  "language_info": {
   "codemirror_mode": {
    "name": "ipython",
    "version": 3
   },
   "file_extension": ".py",
   "mimetype": "text/x-python",
   "name": "python",
   "nbconvert_exporter": "python",
   "pygments_lexer": "ipython3",
   "version": "3.8.10"
  }
 },
 "nbformat": 4,
 "nbformat_minor": 5
}
