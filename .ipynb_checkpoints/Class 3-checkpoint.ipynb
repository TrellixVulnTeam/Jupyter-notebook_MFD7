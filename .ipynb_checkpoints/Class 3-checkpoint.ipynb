{
 "cells": [
  {
   "cell_type": "code",
   "execution_count": 6,
   "id": "957341f5",
   "metadata": {},
   "outputs": [],
   "source": [
    "class Queue2Stacks:\n",
    "    def __init__(self):\n",
    "        self.stack1 = [] # in stack\n",
    "        self.stack2 = [] # out stack\n",
    "        \n",
    "    def enqueue(self, element):\n",
    "        self.stack1.append(elemennt)\n",
    "        \n",
    "    def dequeue(self):\n",
    "        if not self.stack2:\n",
    "            while self.stack1:\n",
    "                self.stack2.append(self.stack1.pop())\n",
    "        return self.stack2.pop()\n",
    "                \n",
    "            \n",
    "                "
   ]
  },
  {
   "cell_type": "code",
   "execution_count": 18,
   "id": "85debb15",
   "metadata": {},
   "outputs": [],
   "source": [
    "def test():\n",
    "    q = Queue2Stacks()\n",
    "    for i in range(5):\n",
    "        q.enqueue(i)\n",
    "    for i in range(5):\n",
    "        print(q.dequeue())"
   ]
  },
  {
   "cell_type": "code",
   "execution_count": 11,
   "id": "da46adaf",
   "metadata": {},
   "outputs": [
    {
     "ename": "NameError",
     "evalue": "name 'test' is not defined",
     "output_type": "error",
     "traceback": [
      "\u001b[0;31m---------------------------------------------------------------------------\u001b[0m",
      "\u001b[0;31mNameError\u001b[0m                                 Traceback (most recent call last)",
      "\u001b[0;32m/tmp/ipykernel_283/756179265.py\u001b[0m in \u001b[0;36m<module>\u001b[0;34m\u001b[0m\n\u001b[0;32m----> 1\u001b[0;31m \u001b[0mtest\u001b[0m\u001b[0;34m(\u001b[0m\u001b[0;34m)\u001b[0m\u001b[0;34m\u001b[0m\u001b[0;34m\u001b[0m\u001b[0m\n\u001b[0m",
      "\u001b[0;31mNameError\u001b[0m: name 'test' is not defined"
     ]
    }
   ],
   "source": [
    "test()"
   ]
  },
  {
   "cell_type": "code",
   "execution_count": 5,
   "id": "bf7886a5",
   "metadata": {},
   "outputs": [],
   "source": [
    "def factorial(n):\n",
    "    if n == 0:\n",
    "        return 1\n",
    "    return n*factorial(n-1)"
   ]
  },
  {
   "cell_type": "code",
   "execution_count": 6,
   "id": "854f3208",
   "metadata": {},
   "outputs": [
    {
     "data": {
      "text/plain": [
       "3628800"
      ]
     },
     "execution_count": 6,
     "metadata": {},
     "output_type": "execute_result"
    }
   ],
   "source": [
    "factorial(10)"
   ]
  },
  {
   "cell_type": "code",
   "execution_count": 12,
   "id": "20b59fda",
   "metadata": {},
   "outputs": [],
   "source": [
    "from functools import lru_cache\n",
    "\n",
    "\n",
    "@lru_cache\n",
    "def fib(n):\n",
    "    if n < 2:\n",
    "        return n\n",
    "    return fib(n-1) + fib(n-2)"
   ]
  },
  {
   "cell_type": "code",
   "execution_count": 10,
   "id": "b0e4e7fa",
   "metadata": {},
   "outputs": [
    {
     "data": {
      "text/plain": [
       "21"
      ]
     },
     "execution_count": 10,
     "metadata": {},
     "output_type": "execute_result"
    }
   ],
   "source": [
    "fib(8)"
   ]
  },
  {
   "cell_type": "code",
   "execution_count": 13,
   "id": "f817c483",
   "metadata": {},
   "outputs": [
    {
     "data": {
      "text/plain": [
       "354224848179261915075"
      ]
     },
     "execution_count": 13,
     "metadata": {},
     "output_type": "execute_result"
    }
   ],
   "source": [
    "fib(100)"
   ]
  },
  {
   "cell_type": "code",
   "execution_count": 15,
   "id": "7742cf61",
   "metadata": {},
   "outputs": [],
   "source": [
    "class Node:\n",
    "    def __init__(self,data):\n",
    "        self.data = data\n",
    "        self.next = None"
   ]
  },
  {
   "cell_type": "code",
   "execution_count": 16,
   "id": "b5e60de8",
   "metadata": {},
   "outputs": [
    {
     "name": "stdout",
     "output_type": "stream",
     "text": [
      "A\n",
      "B\n",
      "C\n",
      "D\n",
      "E\n",
      "F\n",
      "G\n",
      "H\n",
      "I\n",
      "J\n",
      "K\n",
      "L\n",
      "M\n",
      "N\n",
      "O\n",
      "P\n",
      "Q\n",
      "R\n",
      "S\n",
      "T\n",
      "U\n",
      "V\n",
      "W\n",
      "X\n",
      "Y\n",
      "Z\n"
     ]
    }
   ],
   "source": [
    "head = None\n",
    "alphabet = \"ABCDEFGHIJKLMNOPQRSTUVWXYZ\"\n",
    "for letter in alphabet:\n",
    "    if not head:\n",
    "        head = Node(letter)\n",
    "    else:\n",
    "        current = head\n",
    "        while current.next:\n",
    "            current = current.next\n",
    "            \n",
    "        current.next = Node(letter)\n",
    "    \n",
    "current = head\n",
    "while current:\n",
    "    print(current.data)\n",
    "    current = current.next"
   ]
  },
  {
   "cell_type": "code",
   "execution_count": 17,
   "id": "c15c0c3b",
   "metadata": {},
   "outputs": [
    {
     "name": "stdout",
     "output_type": "stream",
     "text": [
      "[4, 4.5, 5]\n"
     ]
    }
   ],
   "source": [
    "mylist = []\n",
    "\n",
    "mylist.append(5)\n",
    "\n",
    "mylist.insert(0, 4)\n",
    "\n",
    "mylist.insert(1, 4.5)\n",
    "\n",
    "print(mylist)"
   ]
  },
  {
   "cell_type": "code",
   "execution_count": 58,
   "id": "b88288d3",
   "metadata": {},
   "outputs": [],
   "source": [
    "class Node:\n",
    "    def __init__(self,data):\n",
    "        self.data = data\n",
    "        self.next = None\n",
    "        \n",
    "class SinglyLinkedList:\n",
    "    def __init__(self):\n",
    "        self.head = None\n",
    "        \n",
    "    def insert(self, index, data):\n",
    "        \n",
    "        \n",
    "        \n",
    "        if not self.head:\n",
    "            self.head = Node(data)\n",
    "        elif index == 0:\n",
    "            new_node = Node(data)      # step 0: Create a new node with \"data\"\n",
    "            temp = self.head           # step 1: Create a reference  to cu\n",
    "            new_node.next = temp\n",
    "            self.head = new_node\n",
    "        else:        \n",
    "            current = self.head\n",
    "            counter = 0            \n",
    "            while current and counter != index:\n",
    "                current = current.next\n",
    "                counter += 1\n",
    "            if not current.next:\n",
    "                current.next = Node(data)\n",
    "            else:\n",
    "                temp = current.next\n",
    "                new_node = Node(data)\n",
    "                current.next = new_node\n",
    "                new_node.next = temp\n",
    "        \n",
    "    def append(self, data):\n",
    "        if not self.head:\n",
    "            self.head = Node(data)\n",
    "        else:\n",
    "            current = self.head\n",
    "            while current.next:\n",
    "                current = current.next\n",
    "            current.next = Node(data)\n",
    "\n",
    "     \n",
    "    def __repr__(self):\n",
    "        out_str = \"\"\n",
    "        current = self.head\n",
    "        while current:\n",
    "            out_str  += \"%s, \" % current.data\n",
    "            current = current.next\n",
    "        return \"[%s]\" % out_str\n",
    "    \n",
    "    def get_index(self, index):\n",
    "        counter = 0\n",
    "        current = head\n",
    "        while current and counter != index:\n",
    "            current = current.next\n",
    "            counter += 1\n",
    "        if counter != index :\n",
    "            raise IndexError(\"List index out of range\")\n",
    "        return current.data\n",
    "    \n",
    "    def remove(self, value):\n",
    "        found = False\n",
    "        if not self.head:\n",
    "            raise ValueError(\n",
    "                \"list.remove(%s: %s is not in the list\"\n",
    "                % (value, value))\n",
    "        else:\n",
    "            if self.head.data == value:   # case 1\n",
    "                self.head = self.head.next\n",
    "                found = True\n",
    "            else:\n",
    "                current = self.head.next # cases 2 and 3\n",
    "                prev = self.head\n",
    "                # while current is not None and found is not False:\n",
    "                while current and not found:\n",
    "                    if current.data == value:\n",
    "                        prev.next = current.next\n",
    "                        found = True\n",
    "                    prev = current\n",
    "                    current = current.next\n",
    "                if not found:\n",
    "                     raise ValueError(\n",
    "                \"list.remove(%s: %s is not in the list\"\n",
    "                % (value, value))\n",
    "                        \n",
    "    def count(self, value):\n",
    "        current = self.head\n",
    "        counter = 0\n",
    "        while current:\n",
    "            if current.data == value:\n",
    "                counter += 1\n",
    "            current = current.next\n",
    "        return counter\n",
    "    \n",
    "    def index(self,value):\n",
    "        current = self.head\n",
    "        index = 0\n",
    "        while current:\n",
    "            if current.data == value:\n",
    "                return index\n",
    "            else:\n",
    "                index += 1\n",
    "                current = current.next\n",
    "        raise ValueError(\"Value not found\")\n",
    "    \n",
    "    \n",
    "        "
   ]
  },
  {
   "cell_type": "code",
   "execution_count": 59,
   "id": "ca86eae7",
   "metadata": {},
   "outputs": [
    {
     "name": "stdout",
     "output_type": "stream",
     "text": [
      "17\n"
     ]
    }
   ],
   "source": [
    "sll = SinglyLinkedList()\n",
    "\n",
    "for number in range(1, 101):\n",
    "    sll.append(number)\n",
    "    \n",
    "print(sll.get_index(12))"
   ]
  },
  {
   "cell_type": "code",
   "execution_count": 61,
   "id": "ea761969",
   "metadata": {},
   "outputs": [
    {
     "name": "stdout",
     "output_type": "stream",
     "text": [
      "Insert value from 2 to 18 at index 0:\n",
      "[18, 16, 14, 12, 10, 8, 6, 4, 2, ]\n",
      "Insert letters from A to E at index 4:\n",
      "[18, 16, 14, 12, 10, E, D, C, B, A, 8, 6, 4, 2, ]\n",
      "\n",
      "Remove letters from A to e (values):\n",
      "[18, 16, 14, 12, 10, 8, 6, 4, 2, ]\n",
      "1\n",
      "7\n"
     ]
    }
   ],
   "source": [
    "sll = SinglyLinkedList()\n",
    "\n",
    "for number in range(2, 20, 2):\n",
    "    sll.insert(0, number)\n",
    "\n",
    "print(\"Insert value from 2 to 18 at index 0:\")\n",
    "print(sll)\n",
    "\n",
    "for letter in  \"ABCDE\":\n",
    "    sll.insert(4, letter)\n",
    "\n",
    "print(\"Insert letters from A to E at index 4:\")\n",
    "print(sll)\n",
    "\n",
    "for letter in \"ABCDE\":\n",
    "    sll.remove(letter)\n",
    "\n",
    "print(\"\\nRemove letters from A to e (values):\")\n",
    "print(sll)\n",
    "\n",
    "print(sll.count(14))\n",
    "\n",
    "print(sll.index(4))"
   ]
  },
  {
   "cell_type": "code",
   "execution_count": null,
   "id": "1dd327cc",
   "metadata": {},
   "outputs": [],
   "source": []
  }
 ],
 "metadata": {
  "kernelspec": {
   "display_name": "Python 3 (ipykernel)",
   "language": "python",
   "name": "python3"
  },
  "language_info": {
   "codemirror_mode": {
    "name": "ipython",
    "version": 3
   },
   "file_extension": ".py",
   "mimetype": "text/x-python",
   "name": "python",
   "nbconvert_exporter": "python",
   "pygments_lexer": "ipython3",
   "version": "3.8.10"
  }
 },
 "nbformat": 4,
 "nbformat_minor": 5
}
